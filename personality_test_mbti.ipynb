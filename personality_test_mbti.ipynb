{
 "cells": [
  {
   "cell_type": "code",
   "execution_count": 1,
   "id": "064f3134",
   "metadata": {},
   "outputs": [],
   "source": [
    "# import libraries\n",
    "import pandas as pd"
   ]
  },
  {
   "cell_type": "code",
   "execution_count": 2,
   "id": "686fbfce",
   "metadata": {},
   "outputs": [
    {
     "name": "stdout",
     "output_type": "stream",
     "text": [
      "Adapted from Harley Friedman, MD. Program Director, Internal Medicine. Dartmouth Hitchcock Medical Center\n"
     ]
    }
   ],
   "source": [
    "# acknowledge source\n",
    "print(\"Adapted from Harley Friedman, MD. Program Director, Internal Medicine. Dartmouth Hitchcock Medical Center\")"
   ]
  },
  {
   "cell_type": "code",
   "execution_count": 3,
   "id": "267e36fd",
   "metadata": {},
   "outputs": [
    {
     "name": "stdout",
     "output_type": "stream",
     "text": [
      "MBTI Personality Type Test\n"
     ]
    }
   ],
   "source": [
    "print(\"MBTI Personality Type Test\")"
   ]
  },
  {
   "cell_type": "code",
   "execution_count": 4,
   "id": "8cae5ba9",
   "metadata": {},
   "outputs": [
    {
     "name": "stdout",
     "output_type": "stream",
     "text": [
      "How to best complete the survey\n"
     ]
    }
   ],
   "source": [
    "print(\"How to best complete the survey\")"
   ]
  },
  {
   "cell_type": "code",
   "execution_count": 5,
   "id": "73fef659",
   "metadata": {},
   "outputs": [
    {
     "name": "stdout",
     "output_type": "stream",
     "text": [
      "There are no right answers to any of these questions.\n"
     ]
    }
   ],
   "source": [
    "print(\"There are no right answers to any of these questions.\")"
   ]
  },
  {
   "cell_type": "code",
   "execution_count": 6,
   "id": "4128be29",
   "metadata": {},
   "outputs": [
    {
     "name": "stdout",
     "output_type": "stream",
     "text": [
      "Answer the questions quickly, do not over-analyze them. Go with what feels best.\n"
     ]
    }
   ],
   "source": [
    "print(\"Answer the questions quickly, do not over-analyze them. Go with what feels best.\")"
   ]
  },
  {
   "cell_type": "code",
   "execution_count": 7,
   "id": "062f176d",
   "metadata": {},
   "outputs": [
    {
     "name": "stdout",
     "output_type": "stream",
     "text": [
      "Answer the questions as “the way you are”, not “the way you’d like to be seen by others\n"
     ]
    }
   ],
   "source": [
    "print(\"Answer the questions as “the way you are”, not “the way you’d like to be seen by others\")"
   ]
  },
  {
   "cell_type": "code",
   "execution_count": 8,
   "id": "5b38200f",
   "metadata": {
    "scrolled": false
   },
   "outputs": [
    {
     "name": "stdout",
     "output_type": "stream",
     "text": [
      "1. At a party do you: a. Interact with many, including strangers b. Interact with a few, known to you a\n",
      "2. Are you more: a. Realistic than speculative b. Speculative than realistic a\n",
      "3. Is it worse to: a. Have your “head in the clouds” b. Be “in a rut” a\n",
      "4. Are you more impressed by: a. Principles b. Emotions a\n",
      "5. Are more drawn toward the: a. Convincing b. Touching b\n",
      "6. Do you prefer to work: a. To deadlines b. Just “whenever” b\n",
      "7. Do you tend to choose: a. Rather carefully b. Somewhat impulsively b\n",
      "8. At parties do you: a. Stay late, with increasing energy b. Leave early with decreased energy b\n",
      "9. Are you more attracted to: a. Sensible people b. Imaginative people b\n",
      "10. Are you more interested in: a. What is actual b. What is possible b\n",
      "11. In judging others are you more swayed by: a. Laws than circumstances b. Circumstances than laws b\n",
      "12. In approaching others is your inclination to be somewhat: a. Objective b. Personal a\n",
      "13. Are you more: a. Punctual b. Leisurely a\n",
      "14. Does it bother you more having things: a. Incomplete b. Completed a\n",
      "15. In your social groups do you: a. Keep abreast of other’s happenings b. Get behind on the news a\n",
      "16. In doing ordinary things are you more likely to: a. Do it the usual way b. Do it your own way a\n",
      "17. Writers should: a. “Say what they mean and mean what they say” b. Express things more by use of analogy b\n",
      "18. Which appeals to you more: a. Consistency of thought b. Harmonious human relationships b\n",
      "19. Are you more comfortable in making: a. Logical judgments b. Value judgments b\n",
      "20. Do you want things: a. Settled and decided b. Unsettled and undecided b\n",
      "21. Would you say you are more: a. Serious and determined b. Easy-going a\n",
      "22. In phoning do you: a. Rarely question that it will all be said b. Rehearse what you’ll say a\n",
      "23. Facts: a. “Speak for themselves” b. Illustrate principles a\n",
      "24. Are visionaries: a. somewhat annoying b. rather fascinating a\n",
      "25. Are you more often: a. a cool-headed person b. a warm-hearted person a\n",
      "26. Is it worse to be: a. unjust b. merciless b\n",
      "27. Should one usually let events occur: a. by careful selection and choice b. randomly and by chance b\n",
      "28. Do you feel better about: a. having purchased b. having the option to buy b\n",
      "29. In company do you: a. initiate conversation b. wait to be approached a\n",
      "30. Common sense is: a. rarely questionable b. frequently questionable a\n",
      "31. Children often do not: a. make themselves useful enough b. exercise their fantasy enough a\n",
      "32. In making decisions do you feel more comfortable with: a. standards b. feelings a\n",
      "33. Are you more: a. firm than gentle b. gentle than firm b\n",
      "34. Which is more admirable: a. the ability to organize and be methodical b. the ability to adapt and make do b\n",
      "35. Do you put more value on: a. infinite b. open-minded b\n",
      "36. Does new and non-routine interaction with others: a. stimulate and energize you b. tax your reserves a\n",
      "37. Are you more frequently: a. a practical sort of person b. a fanciful sort of person a\n",
      "38. Are you more likely to: a. see how others are useful b. see how others see a\n",
      "39. Which is more satisfying: a. to discuss an issue thoroughly b. to arrive at agreement on an issue a\n",
      "40. Which rules you more: a. your head b. your heart a\n",
      "41. Are you more comfortable with work that is: a. contracted b. done on a casual basis b\n",
      "42. Do you tend to look for: a. the orderly b. whatever turns up b\n",
      "43. Do you prefer: a. many friends with brief contact b. a few friends with more lengthy contact b\n",
      "44. Do you go more by: a. facts b. principles b\n",
      "45. Are you more interested in: a. production and distribution b. design and research a\n",
      "46. Which is more of a compliment: a. “There is a very logical person.” b. “There is a very sentimental person.” a\n",
      "47. Do you value in yourself more that you are: a. unwavering b. devoted a\n",
      "48. Do you more often prefer the a. final and unalterable statement b. tentative and preliminary statement a\n",
      "49. Are you more comfortable: a. after a decision b. before a decision a\n",
      "50. Do you: a. speak easily and at length with strangers b. find little to say to strangers a\n",
      "51. Are you more likely to trust your: a. experience b. hunch b\n",
      "52. Do you feel: a. more practical than ingenious b. more ingenious than practical b\n",
      "53. Which person is more to be complimented – one of: a. clear reason b. strong feeling b\n",
      "54. Are you inclined more to be: a. fair-minded b. sympathetic b\n",
      "55. Is it preferable mostly to: a. make sure things are arranged b. just let things happen b\n",
      "56. In relationships should most things be: a. re-negotiable b. random and circumstantial a\n",
      "57. When the phone rings do you: a. hasten to get to it first b. hope someone else will answer a\n",
      "58. Do you prize more in yourself: a. a strong sense of reality b. a vivid imagination a\n",
      "59. Are you drawn more to: a. fundamentals b. overtones a\n",
      "60. Which seems the greater error: a. to be too passionate b. to be too objective a\n",
      "61. Do you see yourself as basically: a. hard-headed b. soft-hearted b\n",
      "62. Which situation appeals to you more: a. the structured and scheduled b. the unstructured and unscheduled b\n",
      "63. Are you a person that is more: a. routinized than whimsical b. whimsical than routinized b\n",
      "64. Are you more inclined to be: a. easy to approach b. somewhat reserved b\n",
      "65. In writings do you prefer: a. the more literal b. the more figurative b\n",
      "66. Is it harder for you to: a. identify with others b. utilize others b\n",
      "67. Which do you wish more for yourself: a. clarity of reason b. strength of compassion b\n",
      "68. Which is the greater fault: a. being indiscriminate b. being critical b\n",
      "69. Do you prefer the: a. planned event b. unplanned event b\n",
      "70. Do you tend to be more: a. deliberate than spontaneous b. spontaneous than deliberate b\n"
     ]
    }
   ],
   "source": [
    "#user input and validate input\n",
    "\n",
    "q1 = str(input(\"1. At a party do you: a. Interact with many, including strangers b. Interact with a few, known to you \"))\n",
    "\n",
    "while q1 not in [\"a\", \"b\"]:\n",
    "    print (\"Only enter a or b. Please try again.\")\n",
    "    q1 = str(input(\"1. At a party do you: a. Interact with many, including strangers b. Interact with a few, known to you \"))\n",
    "    \n",
    "q2 = str(input(\"2. Are you more: a. Realistic than speculative b. Speculative than realistic \"))\n",
    "\n",
    "while q2 not in [\"a\", \"b\"]:\n",
    "    print (\"Only enter a or b. Please try again.\")\n",
    "    q2 = str(input(\"2. Are you more: a. Realistic than speculative b. Speculative than realistic \"))\n",
    "    \n",
    "q3 = str(input(\"3. Is it worse to: a. Have your “head in the clouds” b. Be “in a rut” \"))\n",
    "\n",
    "while q3 not in [\"a\", \"b\"]:\n",
    "    print (\"Only enter a or b. Please try again.\")\n",
    "    q3 = str(input(\"3. Is it worse to: a. Have your “head in the clouds” b. Be “in a rut” \"))\n",
    "    \n",
    "q4 = str(input(\"4. Are you more impressed by: a. Principles b. Emotions \"))\n",
    "\n",
    "while q4 not in [\"a\", \"b\"]:\n",
    "    print (\"Only enter a or b. Please try again.\")\n",
    "    q4 = str(input(\"4. Are you more impressed by: a. Principles b. Emotions \"))\n",
    "    \n",
    "q5 = str(input(\"5. Are more drawn toward the: a. Convincing b. Touching \"))\n",
    "\n",
    "while q5 not in [\"a\", \"b\"]:\n",
    "    print (\"Only enter a or b. Please try again.\")\n",
    "    q5 = str(input(\"5. Are more drawn toward the: a. Convincing b. Touching \"))\n",
    "\n",
    "q6 = str(input(\"6. Do you prefer to work: a. To deadlines b. Just “whenever” \"))\n",
    "\n",
    "while q6 not in [\"a\", \"b\"]:\n",
    "    print (\"Only enter a or b. Please try again.\")\n",
    "    q6 = str(input(\"6. Do you prefer to work: a. To deadlines b. Just “whenever” \"))\n",
    "\n",
    "q7 = str(input(\"7. Do you tend to choose: a. Rather carefully b. Somewhat impulsively \"))\n",
    "\n",
    "while q7 not in [\"a\", \"b\"]:\n",
    "    print (\"Only enter a or b. Please try again.\")\n",
    "    q7 = str(input(\"7. Do you tend to choose: a. Rather carefully b. Somewhat impulsively \"))\n",
    "\n",
    "q8 = str(input(\"8. At parties do you: a. Stay late, with increasing energy b. Leave early with decreased energy \"))\n",
    "\n",
    "while q8 not in [\"a\", \"b\"]:\n",
    "    print (\"Only enter a or b. Please try again.\")\n",
    "    q8 = str(input(\"8. At parties do you: a. Stay late, with increasing energy b. Leave early with decreased energy \"))\n",
    "\n",
    "q9 = str(input(\"9. Are you more attracted to: a. Sensible people b. Imaginative people \"))\n",
    "\n",
    "while q9 not in [\"a\", \"b\"]:\n",
    "    print (\"Only enter a or b. Please try again.\")\n",
    "    q9 = str(input(\"9. Are you more attracted to: a. Sensible people b. Imaginative people \"))\n",
    "    \n",
    "q10 = str(input(\"10. Are you more interested in: a. What is actual b. What is possible \"))\n",
    "\n",
    "while q10 not in [\"a\", \"b\"]:\n",
    "    print (\"Only enter a or b. Please try again.\")\n",
    "    q10 = str(input(\"10. Are you more interested in: a. What is actual b. What is possible \"))\n",
    "\n",
    "q11 = str(input(\"11. In judging others are you more swayed by: a. Laws than circumstances b. Circumstances than laws \"))\n",
    "\n",
    "while q11 not in [\"a\", \"b\"]:\n",
    "    print (\"Only enter a or b. Please try again.\")\n",
    "    q11 = str(input(\"11. In judging others are you more swayed by: a. Laws than circumstances b. Circumstances than laws \"))\n",
    "\n",
    "q12 = str(input(\"12. In approaching others is your inclination to be somewhat: a. Objective b. Personal \"))\n",
    "\n",
    "while q12 not in [\"a\", \"b\"]:\n",
    "    print (\"Only enter a or b. Please try again.\")\n",
    "    q12 = str(input(\"12. In approaching others is your inclination to be somewhat: a. Objective b. Personal \"))\n",
    "    \n",
    "q13 = str(input(\"13. Are you more: a. Punctual b. Leisurely \"))\n",
    "\n",
    "while q13 not in [\"a\", \"b\"]:\n",
    "    print (\"Only enter a or b. Please try again.\")\n",
    "    q13 = str(input(\"13. Are you more: a. Punctual b. Leisurely \"))\n",
    "    \n",
    "q14 = str(input(\"14. Does it bother you more having things: a. Incomplete b. Completed \"))\n",
    "\n",
    "while q14 not in [\"a\", \"b\"]:\n",
    "    print (\"Only enter a or b. Please try again.\")\n",
    "    q14 = str(input(\"14. Does it bother you more having things: a. Incomplete b. Completed \"))\n",
    "\n",
    "q15 = str(input(\"15. In your social groups do you: a. Keep abreast of other’s happenings b. Get behind on the news \"))\n",
    "\n",
    "while q15 not in [\"a\", \"b\"]:\n",
    "    print (\"Only enter a or b. Please try again.\")\n",
    "    q15 = str(input(\"15. In your social groups do you: a. Keep abreast of other’s happenings b. Get behind on the news \"))\n",
    "    \n",
    "q16 = str(input(\"16. In doing ordinary things are you more likely to: a. Do it the usual way b. Do it your own way \"))\n",
    "\n",
    "while q16 not in [\"a\", \"b\"]:\n",
    "    print (\"Only enter a or b. Please try again.\")\n",
    "    q16 = str(input(\"16. In doing ordinary things are you more likely to: a. Do it the usual way b. Do it your own way \"))\n",
    "\n",
    "q17 = str(input(\"17. Writers should: a. “Say what they mean and mean what they say” b. Express things more by use of analogy \"))\n",
    "\n",
    "while q17 not in [\"a\", \"b\"]:\n",
    "    print (\"Only enter a or b. Please try again.\")\n",
    "    q17 = str(input(\"17. Writers should: a. “Say what they mean and mean what they say” b. Express things more by use of analogy \"))\n",
    "    \n",
    "q18 = str(input(\"18. Which appeals to you more: a. Consistency of thought b. Harmonious human relationships \"))\n",
    "\n",
    "while q18 not in [\"a\", \"b\"]:\n",
    "    print (\"Only enter a or b. Please try again.\")\n",
    "    q18 = str(input(\"18. Which appeals to you more: a. Consistency of thought b. Harmonious human relationships \"))\n",
    "    \n",
    "q19 = str(input(\"19. Are you more comfortable in making: a. Logical judgments b. Value judgments \"))\n",
    "\n",
    "while q19 not in [\"a\", \"b\"]:\n",
    "    print (\"Only enter a or b. Please try again.\")\n",
    "    q19 = str(input(\"19. Are you more comfortable in making: a. Logical judgments b. Value judgments \"))\n",
    "    \n",
    "q20 = str(input(\"20. Do you want things: a. Settled and decided b. Unsettled and undecided \"))\n",
    "\n",
    "while q20 not in [\"a\", \"b\"]:\n",
    "    print (\"Only enter a or b. Please try again.\")\n",
    "    q20 = str(input(\"20. Do you want things: a. Settled and decided b. Unsettled and undecided \"))\n",
    "\n",
    "q21 = str(input(\"21. Would you say you are more: a. Serious and determined b. Easy-going \"))\n",
    "\n",
    "while q21 not in [\"a\", \"b\"]:\n",
    "    print (\"Only enter a or b. Please try again.\")\n",
    "    q21 = str(input(\"21. Would you say you are more: a. Serious and determined b. Easy-going \"))\n",
    "    \n",
    "q22 = str(input(\"22. In phoning do you: a. Rarely question that it will all be said b. Rehearse what you’ll say \"))\n",
    "\n",
    "while q22 not in [\"a\", \"b\"]:\n",
    "    print (\"Only enter a or b. Please try again.\")\n",
    "    q22 = str(input(\"22. In phoning do you: a. Rarely question that it will all be said b. Rehearse what you’ll say \"))\n",
    "    \n",
    "q23 = str(input(\"23. Facts: a. “Speak for themselves” b. Illustrate principles \"))\n",
    "\n",
    "while q23 not in [\"a\", \"b\"]:\n",
    "    print (\"Only enter a or b. Please try again.\")\n",
    "    q23 = str(input(\"23. Facts: a. “Speak for themselves” b. Illustrate principles \"))\n",
    "\n",
    "q24 = str(input(\"24. Are visionaries: a. somewhat annoying b. rather fascinating \"))\n",
    "\n",
    "while q24 not in [\"a\", \"b\"]:\n",
    "    print (\"Only enter a or b. Please try again.\")\n",
    "    q24 = str(input(\"24. Are visionaries: a. somewhat annoying b. rather fascinating \"))\n",
    "\n",
    "q25 = str(input(\"25. Are you more often: a. a cool-headed person b. a warm-hearted person \"))\n",
    "\n",
    "while q25 not in [\"a\", \"b\"]:\n",
    "    print (\"Only enter a or b. Please try again.\")\n",
    "    q25 = str(input(\"25. Are you more often: a. a cool-headed person b. a warm-hearted person \"))\n",
    "    \n",
    "q26 = str(input(\"26. Is it worse to be: a. unjust b. merciless \"))\n",
    "\n",
    "while q26 not in [\"a\", \"b\"]:\n",
    "    print (\"Only enter a or b. Please try again.\")\n",
    "    q26 = str(input(\"26. Is it worse to be: a. unjust b. merciless \"))\n",
    "    \n",
    "q27 = str(input(\"27. Should one usually let events occur: a. by careful selection and choice b. randomly and by chance \"))\n",
    "\n",
    "while q27 not in [\"a\", \"b\"]:\n",
    "    print (\"Only enter a or b. Please try again.\")\n",
    "    q27 = str(input(\"27. Should one usually let events occur: a. by careful selection and choice b. randomly and by chance \"))\n",
    "\n",
    "q28 = str(input(\"28. Do you feel better about: a. having purchased b. having the option to buy \"))\n",
    "\n",
    "while q28 not in [\"a\", \"b\"]:\n",
    "    print (\"Only enter a or b. Please try again.\")\n",
    "    q28 = str(input(\"28. Do you feel better about: a. having purchased b. having the option to buy \"))\n",
    "\n",
    "q29 = str(input(\"29. In company do you: a. initiate conversation b. wait to be approached \"))\n",
    "\n",
    "while q29 not in [\"a\", \"b\"]:\n",
    "    print (\"Only enter a or b. Please try again.\")\n",
    "    q29 = str(input(\"29. In company do you: a. initiate conversation b. wait to be approached \"))\n",
    "\n",
    "q30 = str(input(\"30. Common sense is: a. rarely questionable b. frequently questionable \"))\n",
    "\n",
    "while q30 not in [\"a\", \"b\"]:\n",
    "    print (\"Only enter a or b. Please try again.\")\n",
    "    q30 = str(input(\"30. Common sense is: a. rarely questionable b. frequently questionable \"))\n",
    "\n",
    "q31 = str(input(\"31. Children often do not: a. make themselves useful enough b. exercise their fantasy enough \"))\n",
    "\n",
    "while q31 not in [\"a\", \"b\"]:\n",
    "    print (\"Only enter a or b. Please try again.\")\n",
    "    q31 = str(input(\"31. Children often do not: a. make themselves useful enough b. exercise their fantasy enough \"))\n",
    "\n",
    "q32 = str(input(\"32. In making decisions do you feel more comfortable with: a. standards b. feelings \"))\n",
    "\n",
    "while q32 not in [\"a\", \"b\"]:\n",
    "    print (\"Only enter a or b. Please try again.\")\n",
    "    q32 = str(input(\"32. In making decisions do you feel more comfortable with: a. standards b. feelings \"))\n",
    "\n",
    "q33 = str(input(\"33. Are you more: a. firm than gentle b. gentle than firm \"))\n",
    "\n",
    "while q33 not in [\"a\", \"b\"]:\n",
    "    print (\"Only enter a or b. Please try again.\")\n",
    "    q33 = str(input(\"33. Are you more: a. firm than gentle b. gentle than firm \"))\n",
    "\n",
    "q34 = str(input(\"34. Which is more admirable: a. the ability to organize and be methodical b. the ability to adapt and make do \"))\n",
    "\n",
    "while q34 not in [\"a\", \"b\"]:\n",
    "    print (\"Only enter a or b. Please try again.\")\n",
    "    q34 = str(input(\"34. Which is more admirable: a. the ability to organize and be methodical b. the ability to adapt and make do \"))\n",
    "    \n",
    "q35 = str(input(\"35. Do you put more value on: a. infinite b. open-minded \"))\n",
    "\n",
    "while q35 not in [\"a\", \"b\"]:\n",
    "    print (\"Only enter a or b. Please try again.\")\n",
    "    q35 = str(input(\"35. Do you put more value on: a. infinite b. open-minded \"))\n",
    "\n",
    "q36 = str(input(\"36. Does new and non-routine interaction with others: a. stimulate and energize you b. tax your reserves \"))\n",
    "\n",
    "while q36 not in [\"a\", \"b\"]:\n",
    "    print (\"Only enter a or b. Please try again.\")\n",
    "    q36 = str(input(\"36. Does new and non-routine interaction with others: a. stimulate and energize you b. tax your reserves \"))\n",
    "    \n",
    "q37 = str(input(\"37. Are you more frequently: a. a practical sort of person b. a fanciful sort of person \"))\n",
    "\n",
    "while q37 not in [\"a\", \"b\"]:\n",
    "    print (\"Only enter a or b. Please try again.\")\n",
    "    q37 = str(input(\"37. Are you more frequently: a. a practical sort of person b. a fanciful sort of person \"))\n",
    "    \n",
    "q38 = str(input(\"38. Are you more likely to: a. see how others are useful b. see how others see \"))\n",
    "\n",
    "while q38 not in [\"a\", \"b\"]:\n",
    "    print (\"Only enter a or b. Please try again.\")\n",
    "    q38 = str(input(\"38. Are you more likely to: a. see how others are useful b. see how others see \"))\n",
    "    \n",
    "q39 = str(input(\"39. Which is more satisfying: a. to discuss an issue thoroughly b. to arrive at agreement on an issue \"))\n",
    "\n",
    "while q39 not in [\"a\", \"b\"]:\n",
    "    print (\"Only enter a or b. Please try again.\")\n",
    "    q39 = str(input(\"39. Which is more satisfying: a. to discuss an issue thoroughly b. to arrive at agreement on an issue \"))\n",
    "\n",
    "q40 = str(input(\"40. Which rules you more: a. your head b. your heart \"))\n",
    "\n",
    "while q40 not in [\"a\", \"b\"]:\n",
    "    print (\"Only enter a or b. Please try again.\")\n",
    "    q40 = str(input(\"40. Which rules you more: a. your head b. your heart \"))\n",
    "    \n",
    "q41 = str(input(\"41. Are you more comfortable with work that is: a. contracted b. done on a casual basis \"))\n",
    "\n",
    "while q41 not in [\"a\", \"b\"]:\n",
    "    print (\"Only enter a or b. Please try again.\")\n",
    "    q41 = str(input(\"41. Are you more comfortable with work that is: a. contracted b. done on a casual basis \"))\n",
    "    \n",
    "q42 = str(input(\"42. Do you tend to look for: a. the orderly b. whatever turns up \"))\n",
    "\n",
    "while q42 not in [\"a\", \"b\"]:\n",
    "    print (\"Only enter a or b. Please try again.\")\n",
    "    q42 = str(input(\"42. Do you tend to look for: a. the orderly b. whatever turns up \"))\n",
    "    \n",
    "q43 = str(input(\"43. Do you prefer: a. many friends with brief contact b. a few friends with more lengthy contact \"))\n",
    "\n",
    "while q43 not in [\"a\", \"b\"]:\n",
    "    print (\"Only enter a or b. Please try again.\")\n",
    "    q43 = str(input(\"43. Do you prefer: a. many friends with brief contact b. a few friends with more lengthy contact \"))\n",
    "    \n",
    "q44 = str(input(\"44. Do you go more by: a. facts b. principles \"))\n",
    "\n",
    "while q44 not in [\"a\", \"b\"]:\n",
    "    print (\"Only enter a or b. Please try again.\")\n",
    "    q44 = str(input(\"44. Do you go more by: a. facts b. principles \"))\n",
    "\n",
    "q45 = str(input(\"45. Are you more interested in: a. production and distribution b. design and research \"))\n",
    "\n",
    "while q45 not in [\"a\", \"b\"]:\n",
    "    print (\"Only enter a or b. Please try again.\")\n",
    "    q45 = str(input(\"45. Are you more interested in: a. production and distribution b. design and research \"))\n",
    "\n",
    "q46 = str(input(\"46. Which is more of a compliment: a. “There is a very logical person.” b. “There is a very sentimental person.” \"))\n",
    "\n",
    "while q46 not in [\"a\", \"b\"]:\n",
    "    print (\"Only enter a or b. Please try again.\")\n",
    "    q46 = str(input(\"46. Which is more of a compliment: a. “There is a very logical person.” b. “There is a very sentimental person.” \"))\n",
    "    \n",
    "q47 = str(input(\"47. Do you value in yourself more that you are: a. unwavering b. devoted \"))\n",
    "\n",
    "while q47 not in [\"a\", \"b\"]:\n",
    "    print (\"Only enter a or b. Please try again.\")\n",
    "    q47 = str(input(\"47. Do you value in yourself more that you are: a. unwavering b. devoted \"))\n",
    "    \n",
    "q48 = str(input(\"48. Do you more often prefer the a. final and unalterable statement b. tentative and preliminary statement \"))\n",
    "\n",
    "while q48 not in [\"a\", \"b\"]:\n",
    "    print (\"Only enter a or b. Please try again.\")\n",
    "    q48 = str(input(\"48. Do you more often prefer the a. final and unalterable statement b. tentative and preliminary statement \"))\n",
    "    \n",
    "q49 = str(input(\"49. Are you more comfortable: a. after a decision b. before a decision \"))\n",
    "\n",
    "while q49 not in [\"a\", \"b\"]:\n",
    "    print (\"Only enter a or b. Please try again.\")\n",
    "    q49 = str(input(\"49. Are you more comfortable: a. after a decision b. before a decision \"))\n",
    "    \n",
    "q50 = str(input(\"50. Do you: a. speak easily and at length with strangers b. find little to say to strangers \"))\n",
    "\n",
    "while q50 not in [\"a\", \"b\"]:\n",
    "    print (\"Only enter a or b. Please try again.\")\n",
    "    q50 = str(input(\"50. Do you: a. speak easily and at length with strangers b. find little to say to strangers \"))\n",
    "    \n",
    "q51 = str(input(\"51. Are you more likely to trust your: a. experience b. hunch \"))\n",
    "\n",
    "while q51 not in [\"a\", \"b\"]:\n",
    "    print (\"Only enter a or b. Please try again.\")\n",
    "    q51 = str(input(\"51. Are you more likely to trust your: a. experience b. hunch \"))\n",
    "    \n",
    "q52 = str(input(\"52. Do you feel: a. more practical than ingenious b. more ingenious than practical \"))\n",
    "\n",
    "while q52 not in [\"a\", \"b\"]:\n",
    "    print (\"Only enter a or b. Please try again.\")\n",
    "    q52 = str(input(\"52. Do you feel: a. more practical than ingenious b. more ingenious than practical \"))\n",
    "    \n",
    "q53 = str(input(\"53. Which person is more to be complimented – one of: a. clear reason b. strong feeling \"))\n",
    "\n",
    "while q53 not in [\"a\", \"b\"]:\n",
    "    print (\"Only enter a or b. Please try again.\")\n",
    "    q53 = str(input(\"53. Which person is more to be complimented – one of: a. clear reason b. strong feeling \"))\n",
    "    \n",
    "q54 = str(input(\"54. Are you inclined more to be: a. fair-minded b. sympathetic \"))\n",
    "\n",
    "while q54 not in [\"a\", \"b\"]:\n",
    "    print (\"Only enter a or b. Please try again.\")\n",
    "    q54 = str(input(\"54. Are you inclined more to be: a. fair-minded b. sympathetic \"))\n",
    "\n",
    "q55 = str(input(\"55. Is it preferable mostly to: a. make sure things are arranged b. just let things happen \"))\n",
    "\n",
    "while q55 not in [\"a\", \"b\"]:\n",
    "    print (\"Only enter a or b. Please try again.\")\n",
    "    q55 = str(input(\"55. Is it preferable mostly to: a. make sure things are arranged b. just let things happen \"))\n",
    "\n",
    "q56 = str(input(\"56. In relationships should most things be: a. re-negotiable b. random and circumstantial \"))\n",
    "\n",
    "while q56 not in [\"a\", \"b\"]:\n",
    "    print (\"Only enter a or b. Please try again.\")\n",
    "    q56 = str(input(\"56. In relationships should most things be: a. re-negotiable b. random and circumstantial \"))\n",
    "    \n",
    "q57 = str(input(\"57. When the phone rings do you: a. hasten to get to it first b. hope someone else will answer \"))\n",
    "\n",
    "while q57 not in [\"a\", \"b\"]:\n",
    "    print (\"Only enter a or b. Please try again.\")\n",
    "    q57 = str(input(\"57. When the phone rings do you: a. hasten to get to it first b. hope someone else will answer \"))\n",
    "    \n",
    "q58 = str(input(\"58. Do you prize more in yourself: a. a strong sense of reality b. a vivid imagination \"))\n",
    "\n",
    "while q58 not in [\"a\", \"b\"]:\n",
    "    print (\"Only enter a or b. Please try again.\")\n",
    "    q58 = str(input(\"58. Do you prize more in yourself: a. a strong sense of reality b. a vivid imagination \"))\n",
    "\n",
    "q59 = str(input(\"59. Are you drawn more to: a. fundamentals b. overtones \"))\n",
    "\n",
    "while q59 not in [\"a\", \"b\"]:\n",
    "    print (\"Only enter a or b. Please try again.\")\n",
    "    q59 = str(input(\"59. Are you drawn more to: a. fundamentals b. overtones \"))\n",
    "    \n",
    "q60 = str(input(\"60. Which seems the greater error: a. to be too passionate b. to be too objective \"))\n",
    "\n",
    "while q60 not in [\"a\", \"b\"]:\n",
    "    print (\"Only enter a or b. Please try again.\")\n",
    "    q60 = str(input(\"60. Which seems the greater error: a. to be too passionate b. to be too objective \"))\n",
    "    \n",
    "q61 = str(input(\"61. Do you see yourself as basically: a. hard-headed b. soft-hearted \"))\n",
    "\n",
    "while q61 not in [\"a\", \"b\"]:\n",
    "    print (\"Only enter a or b. Please try again.\")\n",
    "    q61 = str(input(\"61. Do you see yourself as basically: a. hard-headed b. soft-hearted \"))\n",
    "    \n",
    "q62 = str(input(\"62. Which situation appeals to you more: a. the structured and scheduled b. the unstructured and unscheduled \"))\n",
    "\n",
    "while q62 not in [\"a\", \"b\"]:\n",
    "    print (\"Only enter a or b. Please try again.\")\n",
    "    q62 = str(input(\"62. Which situation appeals to you more: a. the structured and scheduled b. the unstructured and unscheduled \"))\n",
    "    \n",
    "q63 = str(input(\"63. Are you a person that is more: a. routinized than whimsical b. whimsical than routinized \"))\n",
    "\n",
    "while q63 not in [\"a\", \"b\"]:\n",
    "    print (\"Only enter a or b. Please try again.\")\n",
    "    q63 = str(input(\"63. Are you a person that is more: a. routinized than whimsical b. whimsical than routinized \"))\n",
    "\n",
    "q64 = str(input(\"64. Are you more inclined to be: a. easy to approach b. somewhat reserved \"))\n",
    "\n",
    "while q64 not in [\"a\", \"b\"]:\n",
    "    print (\"Only enter a or b. Please try again.\")\n",
    "    q64 = str(input(\"64. Are you more inclined to be: a. easy to approach b. somewhat reserved \"))\n",
    "    \n",
    "q65 = str(input(\"65. In writings do you prefer: a. the more literal b. the more figurative \"))\n",
    "\n",
    "while q65 not in [\"a\", \"b\"]:\n",
    "    print (\"Only enter a or b. Please try again.\")\n",
    "    q65 = str(input(\"65. In writings do you prefer: a. the more literal b. the more figurative \"))\n",
    "\n",
    "q66 = str(input(\"66. Is it harder for you to: a. identify with others b. utilize others \"))\n",
    "\n",
    "while q66 not in [\"a\", \"b\"]:\n",
    "    print (\"Only enter a or b. Please try again.\")\n",
    "    q66 = str(input(\"66. Is it harder for you to: a. identify with others b. utilize others \"))\n",
    "    \n",
    "q67 = str(input(\"67. Which do you wish more for yourself: a. clarity of reason b. strength of compassion \"))\n",
    "\n",
    "while q67 not in [\"a\", \"b\"]:\n",
    "    print (\"Only enter a or b. Please try again.\")\n",
    "    q67 = str(input(\"67. Which do you wish more for yourself: a. clarity of reason b. strength of compassion \"))\n",
    "\n",
    "q68 = str(input(\"68. Which is the greater fault: a. being indiscriminate b. being critical \"))\n",
    "\n",
    "while q68 not in [\"a\", \"b\"]:\n",
    "    print (\"Only enter a or b. Please try again.\")\n",
    "    q68 = str(input(\"68. Which is the greater fault: a. being indiscriminate b. being critical \"))\n",
    "\n",
    "q69 = str(input(\"69. Do you prefer the: a. planned event b. unplanned event \"))\n",
    "\n",
    "while q69 not in [\"a\", \"b\"]:\n",
    "    print (\"Only enter a or b. Please try again.\")\n",
    "    q69 = str(input(\"69. Do you prefer the: a. planned event b. unplanned event \"))\n",
    "\n",
    "q70 = str(input(\"70. Do you tend to be more: a. deliberate than spontaneous b. spontaneous than deliberate \"))\n",
    "\n",
    "while q70 not in [\"a\", \"b\"]:\n",
    "    print (\"Only enter a or b. Please try again.\")\n",
    "    q70 = str(input(\"70. Do you tend to be more: a. deliberate than spontaneous b. spontaneous than deliberate \"))\n",
    "\n",
    "    \n",
    "mbti_df = {\"Col1\":[q1, q8, q15], #q22, q29, q36, q43, q50, q57, q64], \n",
    "           \"Col2\":[q2, q9, q16], #q23, q30, q37, q44, q51, q58, q65],\n",
    "           \"Col3\":[q3, q10, q17], #q24, q31, q38, q45, q52, q59, q66],\n",
    "           \"Col4\":[q4, q11, q18], #q25, q32, q39, q46, q53, q60, q67],\n",
    "           \"Col5\":[q5, q12, q19], #q26, q33, q40, q47, q54, q61, q68], \n",
    "           \"Col6\":[q6, q13, q20], #q27, q34, q41, q48, q55, q62, q69], \n",
    "           \"Col7\":[q7, q14, q21]} #q28, q35, q42, q49, q56, q63, q70]} "
   ]
  },
  {
   "cell_type": "code",
   "execution_count": 9,
   "id": "2d940f0a",
   "metadata": {},
   "outputs": [
    {
     "data": {
      "text/html": [
       "<div>\n",
       "<style scoped>\n",
       "    .dataframe tbody tr th:only-of-type {\n",
       "        vertical-align: middle;\n",
       "    }\n",
       "\n",
       "    .dataframe tbody tr th {\n",
       "        vertical-align: top;\n",
       "    }\n",
       "\n",
       "    .dataframe thead th {\n",
       "        text-align: right;\n",
       "    }\n",
       "</style>\n",
       "<table border=\"1\" class=\"dataframe\">\n",
       "  <thead>\n",
       "    <tr style=\"text-align: right;\">\n",
       "      <th></th>\n",
       "      <th>Col1</th>\n",
       "      <th>Col2</th>\n",
       "      <th>Col3</th>\n",
       "      <th>Col4</th>\n",
       "      <th>Col5</th>\n",
       "      <th>Col6</th>\n",
       "      <th>Col7</th>\n",
       "    </tr>\n",
       "  </thead>\n",
       "  <tbody>\n",
       "    <tr>\n",
       "      <th>0</th>\n",
       "      <td>a</td>\n",
       "      <td>a</td>\n",
       "      <td>a</td>\n",
       "      <td>a</td>\n",
       "      <td>b</td>\n",
       "      <td>b</td>\n",
       "      <td>b</td>\n",
       "    </tr>\n",
       "    <tr>\n",
       "      <th>1</th>\n",
       "      <td>b</td>\n",
       "      <td>b</td>\n",
       "      <td>b</td>\n",
       "      <td>b</td>\n",
       "      <td>a</td>\n",
       "      <td>a</td>\n",
       "      <td>a</td>\n",
       "    </tr>\n",
       "    <tr>\n",
       "      <th>2</th>\n",
       "      <td>a</td>\n",
       "      <td>a</td>\n",
       "      <td>b</td>\n",
       "      <td>b</td>\n",
       "      <td>b</td>\n",
       "      <td>b</td>\n",
       "      <td>a</td>\n",
       "    </tr>\n",
       "  </tbody>\n",
       "</table>\n",
       "</div>"
      ],
      "text/plain": [
       "  Col1 Col2 Col3 Col4 Col5 Col6 Col7\n",
       "0    a    a    a    a    b    b    b\n",
       "1    b    b    b    b    a    a    a\n",
       "2    a    a    b    b    b    b    a"
      ]
     },
     "execution_count": 9,
     "metadata": {},
     "output_type": "execute_result"
    }
   ],
   "source": [
    "#create DF from user input\n",
    "mbti = pd.DataFrame.from_dict(mbti_df, dtype = str)\n",
    "mbti"
   ]
  },
  {
   "cell_type": "code",
   "execution_count": 10,
   "id": "87bbc6b7",
   "metadata": {},
   "outputs": [
    {
     "data": {
      "text/html": [
       "<div>\n",
       "<style scoped>\n",
       "    .dataframe tbody tr th:only-of-type {\n",
       "        vertical-align: middle;\n",
       "    }\n",
       "\n",
       "    .dataframe tbody tr th {\n",
       "        vertical-align: top;\n",
       "    }\n",
       "\n",
       "    .dataframe thead th {\n",
       "        text-align: right;\n",
       "    }\n",
       "</style>\n",
       "<table border=\"1\" class=\"dataframe\">\n",
       "  <thead>\n",
       "    <tr style=\"text-align: right;\">\n",
       "      <th></th>\n",
       "      <th>Col1</th>\n",
       "      <th>Col2</th>\n",
       "      <th>Col3</th>\n",
       "      <th>Col4</th>\n",
       "      <th>Col5</th>\n",
       "      <th>Col6</th>\n",
       "      <th>Col7</th>\n",
       "    </tr>\n",
       "  </thead>\n",
       "  <tbody>\n",
       "    <tr>\n",
       "      <th>0</th>\n",
       "      <td>True</td>\n",
       "      <td>True</td>\n",
       "      <td>True</td>\n",
       "      <td>True</td>\n",
       "      <td>True</td>\n",
       "      <td>True</td>\n",
       "      <td>True</td>\n",
       "    </tr>\n",
       "    <tr>\n",
       "      <th>1</th>\n",
       "      <td>True</td>\n",
       "      <td>True</td>\n",
       "      <td>True</td>\n",
       "      <td>True</td>\n",
       "      <td>True</td>\n",
       "      <td>True</td>\n",
       "      <td>True</td>\n",
       "    </tr>\n",
       "    <tr>\n",
       "      <th>2</th>\n",
       "      <td>True</td>\n",
       "      <td>True</td>\n",
       "      <td>True</td>\n",
       "      <td>True</td>\n",
       "      <td>True</td>\n",
       "      <td>True</td>\n",
       "      <td>True</td>\n",
       "    </tr>\n",
       "  </tbody>\n",
       "</table>\n",
       "</div>"
      ],
      "text/plain": [
       "   Col1  Col2  Col3  Col4  Col5  Col6  Col7\n",
       "0  True  True  True  True  True  True  True\n",
       "1  True  True  True  True  True  True  True\n",
       "2  True  True  True  True  True  True  True"
      ]
     },
     "execution_count": 10,
     "metadata": {},
     "output_type": "execute_result"
    }
   ],
   "source": [
    "#check if inputs are valid.\n",
    "mbti.isin([\"a\", \"b\"])"
   ]
  },
  {
   "cell_type": "code",
   "execution_count": 11,
   "id": "600ad53f",
   "metadata": {
    "scrolled": true
   },
   "outputs": [
    {
     "data": {
      "text/plain": [
       "0    a\n",
       "1    b\n",
       "2    a\n",
       "Name: Col1, dtype: object"
      ]
     },
     "execution_count": 11,
     "metadata": {},
     "output_type": "execute_result"
    }
   ],
   "source": [
    "# according to the score sheet at Dartmouth Hitchcock Medical Center calculte the scores\n",
    "#first entry is either an E or an I according to the mbti\n",
    "e_i = mbti.loc[:,\"Col1\"]\n",
    "e_i"
   ]
  },
  {
   "cell_type": "code",
   "execution_count": 12,
   "id": "a0868f85",
   "metadata": {},
   "outputs": [
    {
     "data": {
      "text/plain": [
       "a    2\n",
       "b    1\n",
       "Name: Col1, dtype: int64"
      ]
     },
     "execution_count": 12,
     "metadata": {},
     "output_type": "execute_result"
    }
   ],
   "source": [
    "# following the score sheet pattern to determine the number of a and b answers of the user\n",
    "first_letter = mbti[\"Col1\"].value_counts()\n",
    "first_letter"
   ]
  },
  {
   "cell_type": "code",
   "execution_count": 13,
   "id": "32193b7c",
   "metadata": {},
   "outputs": [
    {
     "data": {
      "text/plain": [
       "'E'"
      ]
     },
     "execution_count": 13,
     "metadata": {},
     "output_type": "execute_result"
    }
   ],
   "source": [
    "#establish if a or b are more\n",
    "def first_l():\n",
    "    if first_letter[\"a\"] > first_letter[\"b\"]:\n",
    "        return(\"E\")\n",
    "    else:\n",
    "        return(\"I\")\n",
    "first_l()"
   ]
  },
  {
   "cell_type": "code",
   "execution_count": 14,
   "id": "11549d24",
   "metadata": {},
   "outputs": [
    {
     "data": {
      "text/plain": [
       "0    a\n",
       "1    b\n",
       "2    a\n",
       "Name: Col2, dtype: object"
      ]
     },
     "execution_count": 14,
     "metadata": {},
     "output_type": "execute_result"
    }
   ],
   "source": [
    "#according to the score sheet pattern col1 answer to be copied to col2, etc\n",
    "copy2 = mbti.loc[:,\"Col2\"]\n",
    "copy2"
   ]
  },
  {
   "cell_type": "code",
   "execution_count": 15,
   "id": "dc8a1f03",
   "metadata": {},
   "outputs": [
    {
     "data": {
      "text/plain": [
       "0    a\n",
       "1    b\n",
       "2    b\n",
       "Name: Col3, dtype: object"
      ]
     },
     "execution_count": 15,
     "metadata": {},
     "output_type": "execute_result"
    }
   ],
   "source": [
    "col3 = mbti.loc[:,\"Col3\"]\n",
    "col3"
   ]
  },
  {
   "cell_type": "code",
   "execution_count": 16,
   "id": "740d6652",
   "metadata": {
    "scrolled": true
   },
   "outputs": [
    {
     "data": {
      "text/plain": [
       "0    a\n",
       "1    b\n",
       "2    a\n",
       "0    a\n",
       "1    b\n",
       "2    b\n",
       "dtype: object"
      ]
     },
     "execution_count": 16,
     "metadata": {},
     "output_type": "execute_result"
    }
   ],
   "source": [
    "col3_result = [copy2, col3]\n",
    "result = pd.concat(col3_result)\n",
    "result"
   ]
  },
  {
   "cell_type": "code",
   "execution_count": 17,
   "id": "d525679e",
   "metadata": {},
   "outputs": [
    {
     "data": {
      "text/plain": [
       "a    3\n",
       "b    3\n",
       "dtype: int64"
      ]
     },
     "execution_count": 17,
     "metadata": {},
     "output_type": "execute_result"
    }
   ],
   "source": [
    "res = result.value_counts()\n",
    "res"
   ]
  },
  {
   "cell_type": "code",
   "execution_count": 18,
   "id": "1e59d5d1",
   "metadata": {},
   "outputs": [
    {
     "data": {
      "text/plain": [
       "'N'"
      ]
     },
     "execution_count": 18,
     "metadata": {},
     "output_type": "execute_result"
    }
   ],
   "source": [
    "def second_letter():\n",
    "    if res[\"a\"] > res[\"b\"]:\n",
    "        return(\"S\")\n",
    "    else:\n",
    "        return(\"N\")\n",
    "second_letter()"
   ]
  },
  {
   "cell_type": "code",
   "execution_count": 19,
   "id": "ca78ab74",
   "metadata": {},
   "outputs": [
    {
     "data": {
      "text/plain": [
       "0    a\n",
       "1    b\n",
       "2    b\n",
       "Name: Col4, dtype: object"
      ]
     },
     "execution_count": 19,
     "metadata": {},
     "output_type": "execute_result"
    }
   ],
   "source": [
    "copy4 = mbti.loc[:,\"Col4\"]\n",
    "copy4"
   ]
  },
  {
   "cell_type": "code",
   "execution_count": 20,
   "id": "1a0a9b98",
   "metadata": {},
   "outputs": [
    {
     "data": {
      "text/plain": [
       "0    b\n",
       "1    a\n",
       "2    b\n",
       "Name: Col5, dtype: object"
      ]
     },
     "execution_count": 20,
     "metadata": {},
     "output_type": "execute_result"
    }
   ],
   "source": [
    "col5 = mbti.loc[:,\"Col5\"]\n",
    "col5"
   ]
  },
  {
   "cell_type": "code",
   "execution_count": 21,
   "id": "5d6010f4",
   "metadata": {
    "scrolled": true
   },
   "outputs": [
    {
     "data": {
      "text/plain": [
       "0    a\n",
       "1    b\n",
       "2    b\n",
       "0    b\n",
       "1    a\n",
       "2    b\n",
       "dtype: object"
      ]
     },
     "execution_count": 21,
     "metadata": {},
     "output_type": "execute_result"
    }
   ],
   "source": [
    "col5_result = [copy4, col5]\n",
    "result1 = pd.concat(col5_result)\n",
    "result1"
   ]
  },
  {
   "cell_type": "code",
   "execution_count": 22,
   "id": "e507a0b1",
   "metadata": {},
   "outputs": [
    {
     "data": {
      "text/plain": [
       "b    4\n",
       "a    2\n",
       "dtype: int64"
      ]
     },
     "execution_count": 22,
     "metadata": {},
     "output_type": "execute_result"
    }
   ],
   "source": [
    "r1 = result1.value_counts()\n",
    "r1"
   ]
  },
  {
   "cell_type": "code",
   "execution_count": 23,
   "id": "c78f3e57",
   "metadata": {},
   "outputs": [
    {
     "data": {
      "text/plain": [
       "'F'"
      ]
     },
     "execution_count": 23,
     "metadata": {},
     "output_type": "execute_result"
    }
   ],
   "source": [
    "def third_letter():\n",
    "    if r1[\"a\"] > r1[\"b\"]:\n",
    "        return(\"T\")\n",
    "    else:\n",
    "        return(\"F\")\n",
    "third_letter()"
   ]
  },
  {
   "cell_type": "code",
   "execution_count": 24,
   "id": "ff5bf698",
   "metadata": {},
   "outputs": [
    {
     "data": {
      "text/plain": [
       "0    b\n",
       "1    a\n",
       "2    b\n",
       "Name: Col6, dtype: object"
      ]
     },
     "execution_count": 24,
     "metadata": {},
     "output_type": "execute_result"
    }
   ],
   "source": [
    "copy6 = mbti.loc[:,\"Col6\"]\n",
    "copy6"
   ]
  },
  {
   "cell_type": "code",
   "execution_count": 25,
   "id": "48809d4c",
   "metadata": {},
   "outputs": [
    {
     "data": {
      "text/plain": [
       "0    b\n",
       "1    a\n",
       "2    a\n",
       "Name: Col7, dtype: object"
      ]
     },
     "execution_count": 25,
     "metadata": {},
     "output_type": "execute_result"
    }
   ],
   "source": [
    "col7 = mbti.loc[:,\"Col7\"]\n",
    "col7"
   ]
  },
  {
   "cell_type": "code",
   "execution_count": 26,
   "id": "16210d78",
   "metadata": {},
   "outputs": [
    {
     "data": {
      "text/plain": [
       "0    b\n",
       "1    a\n",
       "2    b\n",
       "0    b\n",
       "1    a\n",
       "2    a\n",
       "dtype: object"
      ]
     },
     "execution_count": 26,
     "metadata": {},
     "output_type": "execute_result"
    }
   ],
   "source": [
    "col7_result = [copy6, col7]\n",
    "result2 = pd.concat(col7_result)\n",
    "result2"
   ]
  },
  {
   "cell_type": "code",
   "execution_count": 27,
   "id": "12c1afe6",
   "metadata": {},
   "outputs": [
    {
     "data": {
      "text/plain": [
       "b    3\n",
       "a    3\n",
       "dtype: int64"
      ]
     },
     "execution_count": 27,
     "metadata": {},
     "output_type": "execute_result"
    }
   ],
   "source": [
    "r2 = result2.value_counts()\n",
    "r2"
   ]
  },
  {
   "cell_type": "code",
   "execution_count": 28,
   "id": "54f9666e",
   "metadata": {},
   "outputs": [
    {
     "data": {
      "text/plain": [
       "'P'"
      ]
     },
     "execution_count": 28,
     "metadata": {},
     "output_type": "execute_result"
    }
   ],
   "source": [
    "def forth_letter():\n",
    "    if r2[\"a\"] > r2[\"b\"]:\n",
    "        return(\"J\")\n",
    "    else:\n",
    "        return(\"P\")\n",
    "forth_letter()"
   ]
  },
  {
   "cell_type": "code",
   "execution_count": 29,
   "id": "ffc9f5e0",
   "metadata": {
    "scrolled": false
   },
   "outputs": [
    {
     "name": "stdout",
     "output_type": "stream",
     "text": [
      "Your personality type is:  E - N - F - P\n"
     ]
    }
   ],
   "source": [
    "#final result to determine your personality type. 1 of 16 possibilities \n",
    "print(\"Your personality type is: \", first_l(),\"-\", second_letter(),\"-\", third_letter(),\"-\", forth_letter())"
   ]
  }
 ],
 "metadata": {
  "kernelspec": {
   "display_name": "Python 3 (ipykernel)",
   "language": "python",
   "name": "python3"
  },
  "language_info": {
   "codemirror_mode": {
    "name": "ipython",
    "version": 3
   },
   "file_extension": ".py",
   "mimetype": "text/x-python",
   "name": "python",
   "nbconvert_exporter": "python",
   "pygments_lexer": "ipython3",
   "version": "3.8.12"
  }
 },
 "nbformat": 4,
 "nbformat_minor": 5
}
